{
 "cells": [
  {
   "cell_type": "markdown",
   "metadata": {
    "vscode": {
     "languageId": "plaintext"
    }
   },
   "source": [
    "# LLM Market Analytics Examples\n",
    "\n",
    "This notebook demonstrates how to use the LLM-based market forecaster for analyzing and predicting market movements."
   ]
  },
  {
   "cell_type": "markdown",
   "metadata": {},
   "source": [
    "## Load and Prepare Sample Data\n",
    "\n",
    "Let's create some sample market data for demonstration purposes."
   ]
  },
  {
   "cell_type": "code",
   "execution_count": null,
   "metadata": {},
   "outputs": [],
   "source": [
    "from quantlib.datasource.service import DataService\n",
    "data_service = DataService.create_default_service()\n",
    "\n",
    "# Define parameters for data fetching\n",
    "symbol = \"IBOV\"  # Change to your desired symbol\n",
    "start_date = \"2021-01-01\"  # Adjust as needed\n",
    "end_date = \"2025-05-16\"    # Adjust as needed\n",
    "interval = \"1m\"            # 1-minute data"
   ]
  },
  {
   "cell_type": "code",
   "execution_count": 10,
   "metadata": {},
   "outputs": [],
   "source": [
    "ts_object = data_service.get_close_prices(\n",
    "        symbol=symbol,\n",
    "        source='mt5',\n",
    "        start_date=start_date,\n",
    "        end_date=end_date,\n",
    "        interval=interval\n",
    "    )"
   ]
  },
  {
   "cell_type": "code",
   "execution_count": 15,
   "metadata": {},
   "outputs": [],
   "source": [
    "ts_object.data.to_parquet('petr_returns.parquet')"
   ]
  },
  {
   "cell_type": "markdown",
   "metadata": {},
   "source": [
    "## Use the data and build on unix enviroment"
   ]
  },
  {
   "cell_type": "code",
   "execution_count": 2,
   "metadata": {},
   "outputs": [],
   "source": [
    "import pandas as pd\n",
    "import numpy as np\n",
    "import torch\n",
    "from quantlib.analytics.llm import LLMForecaster, MarketTokenizer\n",
    "from quantlib.data.timeseries import TimeSeries"
   ]
  },
  {
   "cell_type": "code",
   "execution_count": 3,
   "metadata": {},
   "outputs": [],
   "source": [
    "ts = TimeSeries(pd.read_parquet('quantlib/notebooks/win_returns.parquet'))"
   ]
  },
  {
   "cell_type": "code",
   "execution_count": 4,
   "metadata": {},
   "outputs": [],
   "source": [
    "ret = ts.returns(intraday_only=True)\n",
    "returns = ret.data[(ret.data.index.hour >= 10) & (ret.data.index.hour < 17)]"
   ]
  },
  {
   "cell_type": "code",
   "execution_count": 5,
   "metadata": {},
   "outputs": [],
   "source": [
    "# 2. Initialize the forecaster\n",
    "forecaster = LLMForecaster()\n"
   ]
  },
  {
   "cell_type": "code",
   "execution_count": 6,
   "metadata": {},
   "outputs": [],
   "source": [
    "# 3. Prepare the dataset\n",
    "forecaster.build_dataset(returns['close'])"
   ]
  },
  {
   "cell_type": "code",
   "execution_count": 7,
   "metadata": {},
   "outputs": [
    {
     "name": "stdout",
     "output_type": "stream",
     "text": [
      "Epoch 1, Loss: 0.2077\n",
      "Epoch 2, Loss: 0.0354\n",
      "Epoch 3, Loss: 0.0344\n",
      "Epoch 4, Loss: 0.0341\n",
      "Epoch 5, Loss: 0.0339\n"
     ]
    }
   ],
   "source": [
    "# 4. Build and train the model\n",
    "forecaster.build_model()\n",
    "forecaster.train()"
   ]
  },
  {
   "cell_type": "code",
   "execution_count": 8,
   "metadata": {},
   "outputs": [
    {
     "name": "stdout",
     "output_type": "stream",
     "text": [
      "Predicted returns for next periods: [ 0.00267595  0.00792016  0.00729085 -0.00508548  0.00792016 -0.01326645\n",
      "  0.00330525  0.0049834   0.00414432 -0.00109988  0.0056127  -0.00193896\n",
      " -0.00109988  0.00330525 -0.00571479 -0.00109988 -0.01326645 -0.00277803\n",
      "  0.00036849  0.0049834  -0.00571479  0.0009978  -0.00193896  0.00729085\n",
      " -0.00193896  0.0049834   0.01022761  0.01022761 -0.00047058 -0.00424641\n",
      " -0.00109988  0.00414432 -0.00340734 -0.00277803  0.00729085  0.0056127\n",
      "  0.00267595 -0.00047058 -0.00508548 -0.00802224  0.00267595  0.01106668\n",
      " -0.00109988 -0.00047058 -0.00277803 -0.00193896  0.0129546   0.0009978\n",
      " -0.00109988 -0.00109988 -0.00949062 -0.00193896  0.0129546   0.00330525\n",
      "  0.00036849  0.00183687]\n"
     ]
    }
   ],
   "source": [
    "# 5. Generate predictions\n",
    "# Create a prompt from recent market data\n",
    "recent_data = returns['close'].iloc[-60:].values\n",
    "prompt = torch.tensor(\n",
    "    MarketTokenizer.series_to_tokens(\n",
    "        pd.Series(recent_data),\n",
    "        forecaster.vocab_size\n",
    "    )[0],\n",
    "    dtype=torch.long\n",
    ").unsqueeze(0)  # Add batch dimension\n",
    "\n",
    "# Generate predictions\n",
    "predicted_tokens = forecaster.fit(prompt, steps=5)  # Predict next 5 days\n",
    "\n",
    "# Convert predictions back to returns\n",
    "predicted_returns = MarketTokenizer.tokens_to_values(\n",
    "    np.array(predicted_tokens),\n",
    "    forecaster.bins\n",
    ")\n",
    "\n",
    "print(\"Predicted returns for next periods:\", predicted_returns[:-5])"
   ]
  },
  {
   "cell_type": "code",
   "execution_count": 9,
   "metadata": {},
   "outputs": [
    {
     "name": "stdout",
     "output_type": "stream",
     "text": [
      "Mean Squared Error: 0.000031\n"
     ]
    }
   ],
   "source": [
    "# 6. Evaluate predictions (example with simple metrics)\n",
    "actual_returns = returns.iloc[-5:].values\n",
    "mse = np.mean((predicted_returns - actual_returns) ** 2)\n",
    "print(f\"Mean Squared Error: {mse:.6f}\")"
   ]
  },
  {
   "cell_type": "code",
   "execution_count": null,
   "metadata": {},
   "outputs": [],
   "source": []
  },
  {
   "cell_type": "code",
   "execution_count": null,
   "metadata": {},
   "outputs": [],
   "source": []
  }
 ],
 "metadata": {
  "kernelspec": {
   "display_name": "Python 3 (ipykernel)",
   "language": "python",
   "name": "python3"
  },
  "language_info": {
   "codemirror_mode": {
    "name": "ipython",
    "version": 3
   },
   "file_extension": ".py",
   "mimetype": "text/x-python",
   "name": "python",
   "nbconvert_exporter": "python",
   "pygments_lexer": "ipython3",
   "version": "3.12.3"
  }
 },
 "nbformat": 4,
 "nbformat_minor": 2
}
