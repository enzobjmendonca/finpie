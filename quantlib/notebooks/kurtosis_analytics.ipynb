{
 "cells": [
  {
   "cell_type": "code",
   "execution_count": 1,
   "metadata": {},
   "outputs": [],
   "source": [
    "import sys\n",
    "sys.path.append('..')\n",
    "\n",
    "import pandas as pd\n",
    "import numpy as np\n",
    "import matplotlib.pyplot as plt\n",
    "from datetime import datetime, timedelta\n",
    "\n",
    "from quantlib.data.timeseries import TimeSeries\n",
    "from quantlib.data.multitimeseries import MultiTimeSeries\n",
    "from quantlib.datasource.service import DataService\n",
    "\n",
    "# Optional: for nicer plots\n",
    "plt.style.use('seaborn-v0_8-darkgrid')"
   ]
  },
  {
   "cell_type": "code",
   "execution_count": 3,
   "metadata": {},
   "outputs": [
    {
     "name": "stdout",
     "output_type": "stream",
     "text": [
      "Error fetching data: Failed to fetch data: (-10004, 'No IPC connection')\n"
     ]
    }
   ],
   "source": [
    "# Create data service with default sources\n",
    "data_service = DataService.create_default_service()\n",
    "\n",
    "# Define parameters for data fetching\n",
    "symbol = \"PETR4\"  # Change to your desired symbol\n",
    "start_date = \"2025-05-01\"  # Adjust as needed\n",
    "end_date = \"2025-05-16\"    # Adjust as needed\n",
    "interval = \"1m\"            # 1-minute data\n",
    "\n",
    "# Fetch close prices\n",
    "try:\n",
    "    ts_object = data_service.get_close_prices(\n",
    "        symbol=symbol,\n",
    "        source='mt5',\n",
    "        start_date=start_date,\n",
    "        end_date=end_date,\n",
    "        interval=interval\n",
    "    )\n",
    "    print(f\"Successfully fetched data for {symbol}\")\n",
    "    print(ts_object)\n",
    "except Exception as e:\n",
    "    print(f\"Error fetching data: {e}\")\n",
    "    ts_object = None"
   ]
  },
  {
   "cell_type": "code",
   "execution_count": null,
   "metadata": {},
   "outputs": [],
   "source": [
    "returns_fwd = TimeSeries(returns.data.iloc[::-1].copy(), metadata=returns.metadata)"
   ]
  },
  {
   "cell_type": "code",
   "execution_count": null,
   "metadata": {},
   "outputs": [],
   "source": [
    "returns_fwd = TimeSeries(returns.data.iloc[::-1].copy(), metadata=returns.metadata)"
   ]
  },
  {
   "cell_type": "code",
   "execution_count": null,
   "metadata": {},
   "outputs": [],
   "source": [
    "returns_fwd = TimeSeries(returns.data.iloc[::-1].copy(), metadata=returns.metadata)"
   ]
  },
  {
   "cell_type": "code",
   "execution_count": null,
   "metadata": {},
   "outputs": [],
   "source": [
    "returns_fwd = TimeSeries(returns.data.iloc[::-1].copy(), metadata=returns.metadata)"
   ]
  },
  {
   "cell_type": "code",
   "execution_count": null,
   "metadata": {},
   "outputs": [],
   "source": [
    "returns_fwd = TimeSeries(returns.data.iloc[::-1].copy(), metadata=returns.metadata)"
   ]
  },
  {
   "cell_type": "code",
   "execution_count": null,
   "metadata": {},
   "outputs": [],
   "source": [
    "returns_fwd = TimeSeries(returns.data.iloc[::-1].copy(), metadata=returns.metadata)"
   ]
  },
  {
   "cell_type": "code",
   "execution_count": null,
   "metadata": {},
   "outputs": [],
   "source": [
    "returns_fwd = TimeSeries(returns.data.iloc[::-1].copy(), metadata=returns.metadata)"
   ]
  },
  {
   "cell_type": "code",
   "execution_count": 25,
   "metadata": {},
   "outputs": [],
   "source": [
    "returns_fwd = TimeSeries(returns.data.iloc[::-1].copy(), metadata=returns.metadata)"
   ]
  },
  {
   "cell_type": "code",
   "execution_count": null,
   "metadata": {},
   "outputs": [],
   "source": [
    "returns_fwd = TimeSeries(returns.data.iloc[::-1].copy(), metadata=returns.metadata)"
   ]
  },
  {
   "cell_type": "code",
   "execution_count": null,
   "metadata": {},
   "outputs": [],
   "source": [
    "returns_fwd = TimeSeries(returns.data.iloc[::-1].copy(), metadata=returns.metadata)"
   ]
  },
  {
   "cell_type": "code",
   "execution_count": 41,
   "metadata": {},
   "outputs": [],
   "source": [
    "past_kurtosis = returns.rolling(window=60, stats = ['kurt'])"
   ]
  },
  {
   "cell_type": "code",
   "execution_count": 42,
   "metadata": {},
   "outputs": [],
   "source": [
    "fwd_kurtosis = returns_fwd.rolling(window=60, stats = ['kurt'])"
   ]
  },
  {
   "cell_type": "code",
   "execution_count": 43,
   "metadata": {},
   "outputs": [],
   "source": [
    "lookahead_kurtosis_ts = MultiTimeSeries([past_kurtosis, fwd_kurtosis])"
   ]
  },
  {
   "cell_type": "code",
   "execution_count": 52,
   "metadata": {},
   "outputs": [],
   "source": [
    "lookahead_kurtosis_ts.data = lookahead_kurtosis_ts.data.dropna()"
   ]
  },
  {
   "cell_type": "code",
   "execution_count": 53,
   "metadata": {},
   "outputs": [
    {
     "data": {
      "text/plain": [
       "<Axes: xlabel='close_kurt', ylabel='close_kurt_0'>"
      ]
     },
     "execution_count": 53,
     "metadata": {},
     "output_type": "execute_result"
    },
    {
     "data": {
      "image/png": "[encoded data removed]",
      "text/plain": [
       "<Figure size 640x480 with 1 Axes>"
      ]
     },
     "metadata": {},
     "output_type": "display_data"
    }
   ],
   "source": [
    "lookahead_kurtosis_ts.data.plot(x='close_kurt', y='close_kurt_0', kind='scatter')"
   ]
  },
  {
   "cell_type": "code",
   "execution_count": 54,
   "metadata": {},
   "outputs": [
    {
     "data": {
      "text/html": [
       "<div>\n",
       "<style scoped>\n",
       "    .dataframe tbody tr th:only-of-type {\n",
       "        vertical-align: middle;\n",
       "    }\n",
       "\n",
       "    .dataframe tbody tr th {\n",
       "        vertical-align: top;\n",
       "    }\n",
       "\n",
       "    .dataframe thead th {\n",
       "        text-align: right;\n",
       "    }\n",
       "</style>\n",
       "<table border=\"1\" class=\"dataframe\">\n",
       "  <thead>\n",
       "    <tr style=\"text-align: right;\">\n",
       "      <th></th>\n",
       "      <th>close_kurt</th>\n",
       "      <th>close_kurt_0</th>\n",
       "    </tr>\n",
       "  </thead>\n",
       "  <tbody>\n",
       "    <tr>\n",
       "      <th>close_kurt</th>\n",
       "      <td>1.000000</td>\n",
       "      <td>-0.002683</td>\n",
       "    </tr>\n",
       "    <tr>\n",
       "      <th>close_kurt_0</th>\n",
       "      <td>-0.002683</td>\n",
       "      <td>1.000000</td>\n",
       "    </tr>\n",
       "  </tbody>\n",
       "</table>\n",
       "</div>"
      ],
      "text/plain": [
       "              close_kurt  close_kurt_0\n",
       "close_kurt      1.000000     -0.002683\n",
       "close_kurt_0   -0.002683      1.000000"
      ]
     },
     "execution_count": 54,
     "metadata": {},
     "output_type": "execute_result"
    }
   ],
   "source": [
    "lookahead_kurtosis_ts.correlation()"
   ]
  },
  {
   "cell_type": "code",
   "execution_count": 58,
   "metadata": {},
   "outputs": [
    {
     "data": {
      "text/plain": [
       "close_kurt     -0.613065\n",
       "close_kurt_0    2.646721\n",
       "dtype: float64"
      ]
     },
     "execution_count": 58,
     "metadata": {},
     "output_type": "execute_result"
    }
   ],
   "source": [
    "lookahead_kurtosis_ts.data[lookahead_kurtosis_ts.data.close_kurt <= -0.5].mean()"
   ]
  },
  {
   "cell_type": "code",
   "execution_count": 59,
   "metadata": {},
   "outputs": [
    {
     "data": {
      "text/plain": [
       "close_kurt      0.090964\n",
       "close_kurt_0    1.384583\n",
       "dtype: float64"
      ]
     },
     "execution_count": 59,
     "metadata": {},
     "output_type": "execute_result"
    }
   ],
   "source": [
    "lookahead_kurtosis_ts.data[lookahead_kurtosis_ts.data.close_kurt <= -0.5].std()"
   ]
  },
  {
   "cell_type": "code",
   "execution_count": 60,
   "metadata": {},
   "outputs": [
    {
     "data": {
      "text/plain": [
       "close_kurt      0.191132\n",
       "close_kurt_0    1.956928\n",
       "dtype: float64"
      ]
     },
     "execution_count": 60,
     "metadata": {},
     "output_type": "execute_result"
    }
   ],
   "source": [
    "lookahead_kurtosis_ts.data[lookahead_kurtosis_ts.data.close_kurt <= 0].std()"
   ]
  },
  {
   "cell_type": "code",
   "execution_count": null,
   "metadata": {},
   "outputs": [],
   "source": []
  }
 ],
 "metadata": {
  "kernelspec": {
   "display_name": "venv",
   "language": "python",
   "name": "python3"
  },
  "language_info": {
   "codemirror_mode": {
    "name": "ipython",
    "version": 3
   },
   "file_extension": ".py",
   "mimetype": "text/x-python",
   "name": "python",
   "nbconvert_exporter": "python",
   "pygments_lexer": "ipython3",
   "version": "3.13.3"
  }
 },
 "nbformat": 4,
 "nbformat_minor": 2
}
