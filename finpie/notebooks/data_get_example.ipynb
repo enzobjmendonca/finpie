{
 "cells": [
  {
   "cell_type": "code",
   "execution_count": 1,
   "metadata": {},
   "outputs": [],
   "source": [
    "import os\n",
    "import pandas as pd\n",
    "from typing import Tuple, Union\n",
    "import sys\n",
    "sys.path.append('..')\n",
    "from finpie.data.timeseries import TimeSeries\n",
    "from finpie.data.multitimeseries import MultiTimeSeries\n",
    "from finpie.datasource.service import DataService"
   ]
  },
  {
   "cell_type": "code",
   "execution_count": 7,
   "metadata": {},
   "outputs": [],
   "source": [
    "data_service = DataService.create_default_service()\n",
    "\n",
    "# Define parameters for data fetching\n",
    "symbol = \"WIN$N\"  # Change to your desired symbol\n",
    "start_date = \"2022-01-01\"  # Adjust as needed\n",
    "end_date = \"2025-05-16\"    # Adjust as needed\n",
    "interval = \"1m\"            # 1-minute data"
   ]
  },
  {
   "cell_type": "code",
   "execution_count": 8,
   "metadata": {},
   "outputs": [],
   "source": [
    "ts_object = data_service.get_close_prices(\n",
    "        symbol=symbol,\n",
    "        source='mt5',\n",
    "        start_date=start_date,\n",
    "        end_date=end_date,\n",
    "        interval=interval\n",
    "    )"
   ]
  },
  {
   "cell_type": "code",
   "execution_count": 12,
   "metadata": {},
   "outputs": [
    {
     "data": {
      "text/html": [
       "<div>\n",
       "<style scoped>\n",
       "    .dataframe tbody tr th:only-of-type {\n",
       "        vertical-align: middle;\n",
       "    }\n",
       "\n",
       "    .dataframe tbody tr th {\n",
       "        vertical-align: top;\n",
       "    }\n",
       "\n",
       "    .dataframe thead th {\n",
       "        text-align: right;\n",
       "    }\n",
       "</style>\n",
       "<table border=\"1\" class=\"dataframe\">\n",
       "  <thead>\n",
       "    <tr style=\"text-align: right;\">\n",
       "      <th></th>\n",
       "      <th>close</th>\n",
       "    </tr>\n",
       "    <tr>\n",
       "      <th>time</th>\n",
       "      <th></th>\n",
       "    </tr>\n",
       "  </thead>\n",
       "  <tbody>\n",
       "    <tr>\n",
       "      <th>2022-01-03 09:00:00</th>\n",
       "      <td>106360.0</td>\n",
       "    </tr>\n",
       "    <tr>\n",
       "      <th>2022-01-03 09:01:00</th>\n",
       "      <td>106400.0</td>\n",
       "    </tr>\n",
       "    <tr>\n",
       "      <th>2022-01-03 09:02:00</th>\n",
       "      <td>106310.0</td>\n",
       "    </tr>\n",
       "    <tr>\n",
       "      <th>2022-01-03 09:03:00</th>\n",
       "      <td>106320.0</td>\n",
       "    </tr>\n",
       "    <tr>\n",
       "      <th>2022-01-03 09:04:00</th>\n",
       "      <td>106260.0</td>\n",
       "    </tr>\n",
       "    <tr>\n",
       "      <th>...</th>\n",
       "      <td>...</td>\n",
       "    </tr>\n",
       "    <tr>\n",
       "      <th>2025-05-15 18:20:00</th>\n",
       "      <td>140995.0</td>\n",
       "    </tr>\n",
       "    <tr>\n",
       "      <th>2025-05-15 18:21:00</th>\n",
       "      <td>141005.0</td>\n",
       "    </tr>\n",
       "    <tr>\n",
       "      <th>2025-05-15 18:22:00</th>\n",
       "      <td>141005.0</td>\n",
       "    </tr>\n",
       "    <tr>\n",
       "      <th>2025-05-15 18:23:00</th>\n",
       "      <td>141020.0</td>\n",
       "    </tr>\n",
       "    <tr>\n",
       "      <th>2025-05-15 18:24:00</th>\n",
       "      <td>141075.0</td>\n",
       "    </tr>\n",
       "  </tbody>\n",
       "</table>\n",
       "<p>463719 rows × 1 columns</p>\n",
       "</div>"
      ],
      "text/plain": [
       "                        close\n",
       "time                         \n",
       "2022-01-03 09:00:00  106360.0\n",
       "2022-01-03 09:01:00  106400.0\n",
       "2022-01-03 09:02:00  106310.0\n",
       "2022-01-03 09:03:00  106320.0\n",
       "2022-01-03 09:04:00  106260.0\n",
       "...                       ...\n",
       "2025-05-15 18:20:00  140995.0\n",
       "2025-05-15 18:21:00  141005.0\n",
       "2025-05-15 18:22:00  141005.0\n",
       "2025-05-15 18:23:00  141020.0\n",
       "2025-05-15 18:24:00  141075.0\n",
       "\n",
       "[463719 rows x 1 columns]"
      ]
     },
     "execution_count": 12,
     "metadata": {},
     "output_type": "execute_result"
    }
   ],
   "source": [
    "ts_object.data"
   ]
  }
 ],
 "metadata": {
  "kernelspec": {
   "display_name": "venv",
   "language": "python",
   "name": "python3"
  },
  "language_info": {
   "codemirror_mode": {
    "name": "ipython",
    "version": 3
   },
   "file_extension": ".py",
   "mimetype": "text/x-python",
   "name": "python",
   "nbconvert_exporter": "python",
   "pygments_lexer": "ipython3",
   "version": "3.13.3"
  }
 },
 "nbformat": 4,
 "nbformat_minor": 2
}
